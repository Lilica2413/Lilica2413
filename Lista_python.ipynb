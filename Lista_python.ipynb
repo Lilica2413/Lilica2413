{
  "nbformat": 4,
  "nbformat_minor": 0,
  "metadata": {
    "colab": {
      "provenance": [],
      "authorship_tag": "ABX9TyPyVkoavuKYxUZnZAQ2S709",
      "include_colab_link": true
    },
    "kernelspec": {
      "name": "python3",
      "display_name": "Python 3"
    },
    "language_info": {
      "name": "python"
    }
  },
  "cells": [
    {
      "cell_type": "markdown",
      "metadata": {
        "id": "view-in-github",
        "colab_type": "text"
      },
      "source": [
        "<a href=\"https://colab.research.google.com/github/Lilica2413/Lilica2413/blob/main/Lista_python.ipynb\" target=\"_parent\"><img src=\"https://colab.research.google.com/assets/colab-badge.svg\" alt=\"Open In Colab\"/></a>"
      ]
    },
    {
      "cell_type": "code",
      "execution_count": null,
      "metadata": {
        "id": "Edy21MrsQ27U"
      },
      "outputs": [],
      "source": [
        "numero float (input(\"N° 1\"))\n",
        "numero2 float (input(\"N° 2\"))\n",
        "soma = numero + numero2\n",
        "print(soma)"
      ]
    },
    {
      "cell_type": "code",
      "source": [
        "numero = int(input(\"\"N°\"))\n",
        "#processamento\n",
        "if numero % 2 ==0:\n",
        "  resultado = \"Par\"\n",
        "else:\n",
        "  resultado = \"Ímpar\""
      ],
      "metadata": {
        "id": "Ol_R2KyXVYR8"
      },
      "execution_count": null,
      "outputs": []
    }
  ]
}